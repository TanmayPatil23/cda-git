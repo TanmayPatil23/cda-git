{
 "cells": [
  {
   "cell_type": "markdown",
   "metadata": {},
   "source": [
    "## JSON TO DF"
   ]
  },
  {
   "cell_type": "code",
   "execution_count": 189,
   "metadata": {},
   "outputs": [],
   "source": [
    "import pandas as pd\n",
    "import numpy as np\n",
    "import json\n",
    "import os\n",
    "import matplotlib.pyplot as plt"
   ]
  },
  {
   "cell_type": "code",
   "execution_count": 190,
   "metadata": {},
   "outputs": [],
   "source": [
    "filenames = os.listdir()\n",
    "dfs = list()\n",
    "for file in filenames:\n",
    "    if file.endswith('.json'):\n",
    "        f = open(file)\n",
    "        d = json.load(f)\n",
    "        d = pd.json_normalize(d)\n",
    "        df = pd.DataFrame(d)\n",
    "        dfs.append(df)\n",
    "        f.close()\n",
    "init_df = pd.concat(dfs)\n",
    "df = pd.concat(dfs)\n"
   ]
  },
  {
   "cell_type": "markdown",
   "metadata": {},
   "source": [
    "## Data Cleaning "
   ]
  },
  {
   "cell_type": "code",
   "execution_count": 191,
   "metadata": {},
   "outputs": [],
   "source": [
    "df = df.drop(labels = ['lastMoveAt', 'createdAt', 'players.white.user.patron', 'players.black.user.patron', 'initialFen'], axis=1)"
   ]
  },
  {
   "cell_type": "code",
   "execution_count": 192,
   "metadata": {},
   "outputs": [],
   "source": [
    "df = df.drop(labels = ['players.white.user.name', 'players.black.user.name', 'players.black.user.id', 'players.white.user.id'], axis = 1)"
   ]
  },
  {
   "cell_type": "markdown",
   "metadata": {},
   "source": [
    "## Examining Data"
   ]
  },
  {
   "cell_type": "code",
   "execution_count": 193,
   "metadata": {},
   "outputs": [
    {
     "data": {
      "text/plain": [
       "(10000, 23)"
      ]
     },
     "execution_count": 193,
     "metadata": {},
     "output_type": "execute_result"
    }
   ],
   "source": [
    "df.shape"
   ]
  },
  {
   "cell_type": "code",
   "execution_count": 194,
   "metadata": {},
   "outputs": [
    {
     "data": {
      "text/plain": [
       "230000"
      ]
     },
     "execution_count": 194,
     "metadata": {},
     "output_type": "execute_result"
    }
   ],
   "source": [
    "df.size"
   ]
  },
  {
   "cell_type": "code",
   "execution_count": 195,
   "metadata": {},
   "outputs": [
    {
     "data": {
      "text/plain": [
       "Index(['id', 'rated', 'variant', 'speed', 'perf', 'status', 'winner', 'moves',\n",
       "       'players.white.user.title', 'players.white.rating',\n",
       "       'players.white.ratingDiff', 'players.black.rating',\n",
       "       'players.black.ratingDiff', 'clock.initial', 'clock.increment',\n",
       "       'clock.totalTime', 'players.white.aiLevel', 'players.black.user.title',\n",
       "       'players.black.aiLevel', 'players.white.provisional',\n",
       "       'players.black.provisional', 'tournament', 'swiss'],\n",
       "      dtype='object')"
      ]
     },
     "execution_count": 195,
     "metadata": {},
     "output_type": "execute_result"
    }
   ],
   "source": [
    "df.columns"
   ]
  },
  {
   "cell_type": "code",
   "execution_count": 196,
   "metadata": {},
   "outputs": [
    {
     "name": "stdout",
     "output_type": "stream",
     "text": [
      "<class 'pandas.core.frame.DataFrame'>\n",
      "Int64Index: 10000 entries, 0 to 499\n",
      "Data columns (total 23 columns):\n",
      " #   Column                     Non-Null Count  Dtype  \n",
      "---  ------                     --------------  -----  \n",
      " 0   id                         10000 non-null  object \n",
      " 1   rated                      10000 non-null  bool   \n",
      " 2   variant                    10000 non-null  object \n",
      " 3   speed                      10000 non-null  object \n",
      " 4   perf                       10000 non-null  object \n",
      " 5   status                     10000 non-null  object \n",
      " 6   winner                     9240 non-null   object \n",
      " 7   moves                      10000 non-null  object \n",
      " 8   players.white.user.title   7785 non-null   object \n",
      " 9   players.white.rating       9934 non-null   float64\n",
      " 10  players.white.ratingDiff   8896 non-null   float64\n",
      " 11  players.black.rating       9820 non-null   float64\n",
      " 12  players.black.ratingDiff   8896 non-null   float64\n",
      " 13  clock.initial              9864 non-null   float64\n",
      " 14  clock.increment            9864 non-null   float64\n",
      " 15  clock.totalTime            9864 non-null   float64\n",
      " 16  players.white.aiLevel      66 non-null     float64\n",
      " 17  players.black.user.title   7416 non-null   object \n",
      " 18  players.black.aiLevel      179 non-null    float64\n",
      " 19  players.white.provisional  287 non-null    object \n",
      " 20  players.black.provisional  189 non-null    object \n",
      " 21  tournament                 2139 non-null   object \n",
      " 22  swiss                      9 non-null      object \n",
      "dtypes: bool(1), float64(9), object(13)\n",
      "memory usage: 1.8+ MB\n"
     ]
    }
   ],
   "source": [
    "df.info()"
   ]
  },
  {
   "cell_type": "code",
   "execution_count": 197,
   "metadata": {},
   "outputs": [
    {
     "data": {
      "text/html": [
       "<div>\n",
       "<style scoped>\n",
       "    .dataframe tbody tr th:only-of-type {\n",
       "        vertical-align: middle;\n",
       "    }\n",
       "\n",
       "    .dataframe tbody tr th {\n",
       "        vertical-align: top;\n",
       "    }\n",
       "\n",
       "    .dataframe thead th {\n",
       "        text-align: right;\n",
       "    }\n",
       "</style>\n",
       "<table border=\"1\" class=\"dataframe\">\n",
       "  <thead>\n",
       "    <tr style=\"text-align: right;\">\n",
       "      <th></th>\n",
       "      <th>players.white.rating</th>\n",
       "      <th>players.white.ratingDiff</th>\n",
       "      <th>players.black.rating</th>\n",
       "      <th>players.black.ratingDiff</th>\n",
       "      <th>clock.initial</th>\n",
       "      <th>clock.increment</th>\n",
       "      <th>clock.totalTime</th>\n",
       "      <th>players.white.aiLevel</th>\n",
       "      <th>players.black.aiLevel</th>\n",
       "    </tr>\n",
       "  </thead>\n",
       "  <tbody>\n",
       "    <tr>\n",
       "      <th>count</th>\n",
       "      <td>9934.000000</td>\n",
       "      <td>8896.000000</td>\n",
       "      <td>9820.000000</td>\n",
       "      <td>8896.000000</td>\n",
       "      <td>9864.000000</td>\n",
       "      <td>9864.000000</td>\n",
       "      <td>9864.000000</td>\n",
       "      <td>66.000000</td>\n",
       "      <td>179.000000</td>\n",
       "    </tr>\n",
       "    <tr>\n",
       "      <th>mean</th>\n",
       "      <td>2791.980773</td>\n",
       "      <td>0.358588</td>\n",
       "      <td>2776.662016</td>\n",
       "      <td>0.032824</td>\n",
       "      <td>91.496350</td>\n",
       "      <td>0.233577</td>\n",
       "      <td>100.839416</td>\n",
       "      <td>1.469697</td>\n",
       "      <td>2.659218</td>\n",
       "    </tr>\n",
       "    <tr>\n",
       "      <th>std</th>\n",
       "      <td>356.291002</td>\n",
       "      <td>10.928364</td>\n",
       "      <td>381.935652</td>\n",
       "      <td>12.761779</td>\n",
       "      <td>151.702633</td>\n",
       "      <td>2.499596</td>\n",
       "      <td>228.075886</td>\n",
       "      <td>1.511186</td>\n",
       "      <td>1.645922</td>\n",
       "    </tr>\n",
       "    <tr>\n",
       "      <th>min</th>\n",
       "      <td>851.000000</td>\n",
       "      <td>-199.000000</td>\n",
       "      <td>664.000000</td>\n",
       "      <td>-121.000000</td>\n",
       "      <td>0.000000</td>\n",
       "      <td>0.000000</td>\n",
       "      <td>15.000000</td>\n",
       "      <td>1.000000</td>\n",
       "      <td>1.000000</td>\n",
       "    </tr>\n",
       "    <tr>\n",
       "      <th>25%</th>\n",
       "      <td>2651.000000</td>\n",
       "      <td>-3.000000</td>\n",
       "      <td>2610.000000</td>\n",
       "      <td>-4.000000</td>\n",
       "      <td>30.000000</td>\n",
       "      <td>0.000000</td>\n",
       "      <td>30.000000</td>\n",
       "      <td>1.000000</td>\n",
       "      <td>1.000000</td>\n",
       "    </tr>\n",
       "    <tr>\n",
       "      <th>50%</th>\n",
       "      <td>2874.000000</td>\n",
       "      <td>0.000000</td>\n",
       "      <td>2883.000000</td>\n",
       "      <td>0.000000</td>\n",
       "      <td>60.000000</td>\n",
       "      <td>0.000000</td>\n",
       "      <td>60.000000</td>\n",
       "      <td>1.000000</td>\n",
       "      <td>3.000000</td>\n",
       "    </tr>\n",
       "    <tr>\n",
       "      <th>75%</th>\n",
       "      <td>3025.000000</td>\n",
       "      <td>4.000000</td>\n",
       "      <td>3026.000000</td>\n",
       "      <td>3.000000</td>\n",
       "      <td>60.000000</td>\n",
       "      <td>0.000000</td>\n",
       "      <td>100.000000</td>\n",
       "      <td>1.000000</td>\n",
       "      <td>3.000000</td>\n",
       "    </tr>\n",
       "    <tr>\n",
       "      <th>max</th>\n",
       "      <td>3377.000000</td>\n",
       "      <td>700.000000</td>\n",
       "      <td>3379.000000</td>\n",
       "      <td>707.000000</td>\n",
       "      <td>10800.000000</td>\n",
       "      <td>180.000000</td>\n",
       "      <td>18000.000000</td>\n",
       "      <td>8.000000</td>\n",
       "      <td>8.000000</td>\n",
       "    </tr>\n",
       "  </tbody>\n",
       "</table>\n",
       "</div>"
      ],
      "text/plain": [
       "       players.white.rating  players.white.ratingDiff  players.black.rating  \\\n",
       "count           9934.000000               8896.000000           9820.000000   \n",
       "mean            2791.980773                  0.358588           2776.662016   \n",
       "std              356.291002                 10.928364            381.935652   \n",
       "min              851.000000               -199.000000            664.000000   \n",
       "25%             2651.000000                 -3.000000           2610.000000   \n",
       "50%             2874.000000                  0.000000           2883.000000   \n",
       "75%             3025.000000                  4.000000           3026.000000   \n",
       "max             3377.000000                700.000000           3379.000000   \n",
       "\n",
       "       players.black.ratingDiff  clock.initial  clock.increment  \\\n",
       "count               8896.000000    9864.000000      9864.000000   \n",
       "mean                   0.032824      91.496350         0.233577   \n",
       "std                   12.761779     151.702633         2.499596   \n",
       "min                 -121.000000       0.000000         0.000000   \n",
       "25%                   -4.000000      30.000000         0.000000   \n",
       "50%                    0.000000      60.000000         0.000000   \n",
       "75%                    3.000000      60.000000         0.000000   \n",
       "max                  707.000000   10800.000000       180.000000   \n",
       "\n",
       "       clock.totalTime  players.white.aiLevel  players.black.aiLevel  \n",
       "count      9864.000000              66.000000             179.000000  \n",
       "mean        100.839416               1.469697               2.659218  \n",
       "std         228.075886               1.511186               1.645922  \n",
       "min          15.000000               1.000000               1.000000  \n",
       "25%          30.000000               1.000000               1.000000  \n",
       "50%          60.000000               1.000000               3.000000  \n",
       "75%         100.000000               1.000000               3.000000  \n",
       "max       18000.000000               8.000000               8.000000  "
      ]
     },
     "execution_count": 197,
     "metadata": {},
     "output_type": "execute_result"
    }
   ],
   "source": [
    "df.describe()"
   ]
  },
  {
   "cell_type": "markdown",
   "metadata": {},
   "source": [
    "## Histogram Plotting"
   ]
  },
  {
   "cell_type": "code",
   "execution_count": 198,
   "metadata": {
    "scrolled": true
   },
   "outputs": [
    {
     "data": {
      "text/plain": [
       "Text(0, 0.5, 'PLAYER-COUNT')"
      ]
     },
     "execution_count": 198,
     "metadata": {},
     "output_type": "execute_result"
    },
    {
     "data": {
      "image/png": "[encoded data removed]",
      "text/plain": [
       "<Figure size 432x288 with 1 Axes>"
      ]
     },
     "metadata": {
      "needs_background": "light"
     },
     "output_type": "display_data"
    }
   ],
   "source": [
    "x = df['players.white.rating'].replace(np.nan, 0)\n",
    "# # x.shape\n",
    "plt.hist(x, 50)\n",
    "plt.xlabel('WHITE-RATING')\n",
    "plt.ylabel('PLAYER-COUNT')\n",
    "# df.head()"
   ]
  },
  {
   "cell_type": "code",
   "execution_count": 199,
   "metadata": {
    "scrolled": true
   },
   "outputs": [
    {
     "data": {
      "text/plain": [
       "Text(0, 0.5, 'PLAYER-COUNT')"
      ]
     },
     "execution_count": 199,
     "metadata": {},
     "output_type": "execute_result"
    },
    {
     "data": {
      "image/png": "[encoded data removed]",
      "text/plain": [
       "<Figure size 432x288 with 1 Axes>"
      ]
     },
     "metadata": {
      "needs_background": "light"
     },
     "output_type": "display_data"
    }
   ],
   "source": [
    "x = df['players.black.rating'].replace(np.nan, 0)\n",
    "# x.shape\n",
    "plt.hist(x, 50)\n",
    "plt.xlabel('BLACK-RATING')\n",
    "plt.ylabel('PLAYER-COUNT')"
   ]
  },
  {
   "cell_type": "markdown",
   "metadata": {},
   "source": [
    "## Encoding Categorical Variables"
   ]
  },
  {
   "cell_type": "code",
   "execution_count": 200,
   "metadata": {},
   "outputs": [
    {
     "data": {
      "text/plain": [
       "Index(['id', 'rated', 'variant', 'speed', 'perf', 'status', 'winner', 'moves',\n",
       "       'players.white.user.title', 'players.white.rating',\n",
       "       'players.white.ratingDiff', 'players.black.rating',\n",
       "       'players.black.ratingDiff', 'clock.initial', 'clock.increment',\n",
       "       'clock.totalTime', 'players.white.aiLevel', 'players.black.user.title',\n",
       "       'players.black.aiLevel', 'players.white.provisional',\n",
       "       'players.black.provisional', 'tournament', 'swiss'],\n",
       "      dtype='object')"
      ]
     },
     "execution_count": 200,
     "metadata": {},
     "output_type": "execute_result"
    }
   ],
   "source": [
    "df.columns"
   ]
  },
  {
   "cell_type": "code",
   "execution_count": 206,
   "metadata": {},
   "outputs": [
    {
     "data": {
      "text/html": [
       "<div>\n",
       "<style scoped>\n",
       "    .dataframe tbody tr th:only-of-type {\n",
       "        vertical-align: middle;\n",
       "    }\n",
       "\n",
       "    .dataframe tbody tr th {\n",
       "        vertical-align: top;\n",
       "    }\n",
       "\n",
       "    .dataframe thead th {\n",
       "        text-align: right;\n",
       "    }\n",
       "</style>\n",
       "<table border=\"1\" class=\"dataframe\">\n",
       "  <thead>\n",
       "    <tr style=\"text-align: right;\">\n",
       "      <th></th>\n",
       "      <th>id</th>\n",
       "      <th>rated</th>\n",
       "      <th>variant</th>\n",
       "      <th>speed</th>\n",
       "      <th>perf</th>\n",
       "      <th>status</th>\n",
       "      <th>winner</th>\n",
       "      <th>moves</th>\n",
       "      <th>players.white.user.title</th>\n",
       "      <th>players.white.rating</th>\n",
       "      <th>...</th>\n",
       "      <th>clock.initial</th>\n",
       "      <th>clock.increment</th>\n",
       "      <th>clock.totalTime</th>\n",
       "      <th>players.white.aiLevel</th>\n",
       "      <th>players.black.user.title</th>\n",
       "      <th>players.black.aiLevel</th>\n",
       "      <th>players.white.provisional</th>\n",
       "      <th>players.black.provisional</th>\n",
       "      <th>tournament</th>\n",
       "      <th>swiss</th>\n",
       "    </tr>\n",
       "  </thead>\n",
       "  <tbody>\n",
       "    <tr>\n",
       "      <th>0</th>\n",
       "      <td>xWXXUx9H</td>\n",
       "      <td>1</td>\n",
       "      <td>horde</td>\n",
       "      <td>bullet</td>\n",
       "      <td>horde</td>\n",
       "      <td>variantEnd</td>\n",
       "      <td>black</td>\n",
       "      <td>d5 e6 d4 h5 e5 exf5 gxf5 d6 e4 dxc5 bxc5 a5 d3...</td>\n",
       "      <td>4</td>\n",
       "      <td>2449.000000</td>\n",
       "      <td>...</td>\n",
       "      <td>60.0</td>\n",
       "      <td>0.0</td>\n",
       "      <td>60.0</td>\n",
       "      <td>Human</td>\n",
       "      <td>8</td>\n",
       "      <td>Human</td>\n",
       "      <td>NaN</td>\n",
       "      <td>NaN</td>\n",
       "      <td>NaN</td>\n",
       "      <td>NaN</td>\n",
       "    </tr>\n",
       "    <tr>\n",
       "      <th>1</th>\n",
       "      <td>fvEwyB01</td>\n",
       "      <td>0</td>\n",
       "      <td>standard</td>\n",
       "      <td>ultraBullet</td>\n",
       "      <td>ultraBullet</td>\n",
       "      <td>outoftime</td>\n",
       "      <td>white</td>\n",
       "      <td>e4 c6 e5 d5 f4 c5 Nf3 Nc6 Bb5 Bf5 O-O e6 Ng5 B...</td>\n",
       "      <td>8</td>\n",
       "      <td>2791.980773</td>\n",
       "      <td>...</td>\n",
       "      <td>15.0</td>\n",
       "      <td>0.0</td>\n",
       "      <td>15.0</td>\n",
       "      <td>Engine</td>\n",
       "      <td>4</td>\n",
       "      <td>Human</td>\n",
       "      <td>NaN</td>\n",
       "      <td>NaN</td>\n",
       "      <td>NaN</td>\n",
       "      <td>NaN</td>\n",
       "    </tr>\n",
       "    <tr>\n",
       "      <th>2</th>\n",
       "      <td>1Xibgkuy</td>\n",
       "      <td>0</td>\n",
       "      <td>standard</td>\n",
       "      <td>ultraBullet</td>\n",
       "      <td>ultraBullet</td>\n",
       "      <td>draw</td>\n",
       "      <td>NaN</td>\n",
       "      <td>d4 e5 Nc3 exd4 Qxd4 Nf6 Qd1 d5 e4 Nc6 exd5 Ne5...</td>\n",
       "      <td>4</td>\n",
       "      <td>2606.000000</td>\n",
       "      <td>...</td>\n",
       "      <td>15.0</td>\n",
       "      <td>0.0</td>\n",
       "      <td>15.0</td>\n",
       "      <td>Human</td>\n",
       "      <td>8</td>\n",
       "      <td>Engine</td>\n",
       "      <td>NaN</td>\n",
       "      <td>NaN</td>\n",
       "      <td>NaN</td>\n",
       "      <td>NaN</td>\n",
       "    </tr>\n",
       "    <tr>\n",
       "      <th>3</th>\n",
       "      <td>LfMQZxF4</td>\n",
       "      <td>0</td>\n",
       "      <td>standard</td>\n",
       "      <td>ultraBullet</td>\n",
       "      <td>ultraBullet</td>\n",
       "      <td>outoftime</td>\n",
       "      <td>white</td>\n",
       "      <td>e4 c6 Bc4 d5 exd5 cxd5 Bb3 Nf6 d4 g6 Nf3 Bg7 O...</td>\n",
       "      <td>8</td>\n",
       "      <td>2791.980773</td>\n",
       "      <td>...</td>\n",
       "      <td>15.0</td>\n",
       "      <td>0.0</td>\n",
       "      <td>15.0</td>\n",
       "      <td>Engine</td>\n",
       "      <td>4</td>\n",
       "      <td>Human</td>\n",
       "      <td>NaN</td>\n",
       "      <td>NaN</td>\n",
       "      <td>NaN</td>\n",
       "      <td>NaN</td>\n",
       "    </tr>\n",
       "    <tr>\n",
       "      <th>4</th>\n",
       "      <td>uLocZbyq</td>\n",
       "      <td>0</td>\n",
       "      <td>standard</td>\n",
       "      <td>ultraBullet</td>\n",
       "      <td>ultraBullet</td>\n",
       "      <td>outoftime</td>\n",
       "      <td>black</td>\n",
       "      <td>d4 d5 Nc3 e6 f3 Nc6 e4 f5 exf5 exf5 Bb5 Kf7 Bx...</td>\n",
       "      <td>4</td>\n",
       "      <td>2606.000000</td>\n",
       "      <td>...</td>\n",
       "      <td>15.0</td>\n",
       "      <td>0.0</td>\n",
       "      <td>15.0</td>\n",
       "      <td>Human</td>\n",
       "      <td>8</td>\n",
       "      <td>Engine</td>\n",
       "      <td>NaN</td>\n",
       "      <td>NaN</td>\n",
       "      <td>NaN</td>\n",
       "      <td>NaN</td>\n",
       "    </tr>\n",
       "  </tbody>\n",
       "</table>\n",
       "<p>5 rows × 23 columns</p>\n",
       "</div>"
      ],
      "text/plain": [
       "         id  rated   variant        speed         perf      status winner  \\\n",
       "0  xWXXUx9H      1     horde       bullet        horde  variantEnd  black   \n",
       "1  fvEwyB01      0  standard  ultraBullet  ultraBullet   outoftime  white   \n",
       "2  1Xibgkuy      0  standard  ultraBullet  ultraBullet        draw    NaN   \n",
       "3  LfMQZxF4      0  standard  ultraBullet  ultraBullet   outoftime  white   \n",
       "4  uLocZbyq      0  standard  ultraBullet  ultraBullet   outoftime  black   \n",
       "\n",
       "                                               moves players.white.user.title  \\\n",
       "0  d5 e6 d4 h5 e5 exf5 gxf5 d6 e4 dxc5 bxc5 a5 d3...                        4   \n",
       "1  e4 c6 e5 d5 f4 c5 Nf3 Nc6 Bb5 Bf5 O-O e6 Ng5 B...                        8   \n",
       "2  d4 e5 Nc3 exd4 Qxd4 Nf6 Qd1 d5 e4 Nc6 exd5 Ne5...                        4   \n",
       "3  e4 c6 Bc4 d5 exd5 cxd5 Bb3 Nf6 d4 g6 Nf3 Bg7 O...                        8   \n",
       "4  d4 d5 Nc3 e6 f3 Nc6 e4 f5 exf5 exf5 Bb5 Kf7 Bx...                        4   \n",
       "\n",
       "   players.white.rating  ...  clock.initial  clock.increment  clock.totalTime  \\\n",
       "0           2449.000000  ...           60.0              0.0             60.0   \n",
       "1           2791.980773  ...           15.0              0.0             15.0   \n",
       "2           2606.000000  ...           15.0              0.0             15.0   \n",
       "3           2791.980773  ...           15.0              0.0             15.0   \n",
       "4           2606.000000  ...           15.0              0.0             15.0   \n",
       "\n",
       "   players.white.aiLevel  players.black.user.title  players.black.aiLevel  \\\n",
       "0                  Human                         8                  Human   \n",
       "1                 Engine                         4                  Human   \n",
       "2                  Human                         8                 Engine   \n",
       "3                 Engine                         4                  Human   \n",
       "4                  Human                         8                 Engine   \n",
       "\n",
       "  players.white.provisional  players.black.provisional tournament swiss  \n",
       "0                       NaN                        NaN        NaN   NaN  \n",
       "1                       NaN                        NaN        NaN   NaN  \n",
       "2                       NaN                        NaN        NaN   NaN  \n",
       "3                       NaN                        NaN        NaN   NaN  \n",
       "4                       NaN                        NaN        NaN   NaN  \n",
       "\n",
       "[5 rows x 23 columns]"
      ]
     },
     "execution_count": 206,
     "metadata": {},
     "output_type": "execute_result"
    }
   ],
   "source": [
    "df['rated'].replace([True, False], [1, 0], inplace=True)\n",
    "# df['players.black.user.title'] = df[\"players.black.user.title\"].astype('int32')\n",
    "df['players.white.user.title'].replace(np.nan, 'LM', inplace=True)\n",
    "df['players.black.user.title'].replace(np.nan, 'LM', inplace=True)\n",
    "avg_rating_white = np.mean(df['players.white.rating'])\n",
    "avg_rating_black = np.mean(df['players.black.rating'])\n",
    "df['players.white.rating'].replace(np.nan, avg_rating_white, inplace=True)\n",
    "df['players.black.rating'].replace(np.nan, avg_rating_black, inplace=True)\n",
    "cats = df['players.black.user.title'].unique()\n",
    "cats_enc = [8, 4, 2, 1, 6, 7, 3, 5]\n",
    "arr = [1.0,  3.0,  2.0,  5.0,  4.0,  8.0,  6.0]\n",
    "df['players.black.user.title'].replace(cats, cats_enc, inplace=True)\n",
    "df['players.white.user.title'].replace(cats, cats_enc, inplace=True)\n",
    "df['players.white.aiLevel'].replace(np.nan, \"Human\", inplace=True)\n",
    "df['players.black.aiLevel'].replace(np.nan, \"Human\", inplace=True)\n",
    "df['players.white.aiLevel'].replace(arr, \"Engine\", inplace=True)\n",
    "df['players.black.aiLevel'].replace(arr, \"Engine\", inplace=True)\n",
    "\n",
    "# df.head()\n",
    "# newarr = df['players.black.aiLevel'].unique()\n",
    "df.head()\n",
    "# newarr"
   ]
  },
  {
   "cell_type": "code",
   "execution_count": null,
   "metadata": {},
   "outputs": [],
   "source": []
  }
 ],
 "metadata": {
  "kernelspec": {
   "display_name": "Python 3",
   "language": "python",
   "name": "python3"
  },
  "language_info": {
   "codemirror_mode": {
    "name": "ipython",
    "version": 3
   },
   "file_extension": ".py",
   "mimetype": "text/x-python",
   "name": "python",
   "nbconvert_exporter": "python",
   "pygments_lexer": "ipython3",
   "version": "3.8.10"
  }
 },
 "nbformat": 4,
 "nbformat_minor": 4
}
